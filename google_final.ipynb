{
 "cells": [
  {
   "cell_type": "markdown",
   "metadata": {},
   "source": [
    "# Final Project\n",
    "We need to process a list of Event objects using their attributes to generate a report that \n",
    "lists all users currently logged in to the machines."
   ]
  },
  {
   "cell_type": "code",
   "execution_count": 1,
   "metadata": {},
   "outputs": [
    {
     "data": {
      "text/plain": [
       "[0, 1, 2, 4, 4, 4, 5, 5, 7, 8, 8, 9]"
      ]
     },
     "execution_count": 1,
     "metadata": {},
     "output_type": "execute_result"
    }
   ],
   "source": [
    "#1-Research\n",
    "#Sort method example\n",
    "\n",
    "numbers = [1,2,5,7,4,8,4,8,4,5,9,0]\n",
    "\n",
    "numbers.sort()\n",
    "numbers"
   ]
  },
  {
   "cell_type": "code",
   "execution_count": 2,
   "metadata": {},
   "outputs": [
    {
     "data": {
      "text/plain": [
       "['adam', 'jack', 'max', 'mike', 'tom']"
      ]
     },
     "execution_count": 2,
     "metadata": {},
     "output_type": "execute_result"
    }
   ],
   "source": [
    "#Using Sorted function\n",
    "\n",
    "names = [\"jack\", \"mike\", \"tom\", \"max\", \"adam\"]\n",
    "sorted(names)"
   ]
  },
  {
   "cell_type": "code",
   "execution_count": 3,
   "metadata": {},
   "outputs": [
    {
     "data": {
      "text/plain": [
       "['tom', 'max', 'jack', 'mike', 'adam']"
      ]
     },
     "execution_count": 3,
     "metadata": {},
     "output_type": "execute_result"
    }
   ],
   "source": [
    "#Using Sorted function and parameter key\n",
    "#Sorting the list by their length\n",
    "\n",
    "names = [\"jack\", \"mike\", \"tom\", \"max\", \"adam\"]\n",
    "sorted(names, key=len)"
   ]
  },
  {
   "cell_type": "markdown",
   "metadata": {},
   "source": [
    "# 2-Planning and 3-Writing the script"
   ]
  },
  {
   "cell_type": "code",
   "execution_count": 4,
   "metadata": {},
   "outputs": [],
   "source": [
    "# Writing the script\n",
    "\n",
    "def get_event_date(event):\n",
    "  return event.date\n",
    "\n",
    "def current_users(events):\n",
    "  events.sort(key=get_event_date)\n",
    "  machines = {}\n",
    "  for event in events:\n",
    "    if event.machine not in machines:\n",
    "      machines[event.machine] = set()\n",
    "    if event.type == \"login\":\n",
    "      machines[event.machine].add(event.user)\n",
    "    elif event.type == \"logout\":\n",
    "      machines[event.machine].remove(event.user)\n",
    "  return machines\n",
    "\n",
    "#Following part ensure that we don't print any machines where nobody is currently logged in\n",
    "def generate_report(machines):\n",
    "  for machine, users in machines.items():\n",
    "    if len(users) > 0:\n",
    "      user_list = \", \".join(users)\n",
    "      print(\"{}: {}\".format(machine, user_list))\n"
   ]
  },
  {
   "cell_type": "markdown",
   "metadata": {},
   "source": [
    "To use above code, we will use the following Event Class"
   ]
  },
  {
   "cell_type": "code",
   "execution_count": 5,
   "metadata": {},
   "outputs": [],
   "source": [
    "class Event:\n",
    "  def __init__(self, event_date, event_type, machine_name, user):\n",
    "    self.date = event_date\n",
    "    self.type = event_type\n",
    "    self.machine = machine_name\n",
    "    self.user = user\n"
   ]
  },
  {
   "cell_type": "markdown",
   "metadata": {},
   "source": [
    "And here are some sample events to check that the code runs correctly"
   ]
  },
  {
   "cell_type": "code",
   "execution_count": 6,
   "metadata": {},
   "outputs": [],
   "source": [
    "events=[\n",
    "    Event('2020-06-21 12:45:56', 'login', 'myworkstation.local', 'leo'),\n",
    "    Event('2020-06-22 15:53:42', 'logout', 'webserver.local', 'leo'),\n",
    "    Event('2020-06-21 13:40:24', 'login', 'webserver.local', 'mike'),\n",
    "    Event('2020-06-22 10:25:34', 'logout', 'myworkstation.local', 'leo'),\n",
    "    Event('2020-06-21 08:20:05', 'login', 'webserver.local', 'leo'),\n",
    "    Event('2020-06-23 11:45:44', 'login', 'mailserver.local', 'don'),\n",
    "]"
   ]
  },
  {
   "cell_type": "markdown",
   "metadata": {},
   "source": [
    "Now let's call the code and verify that it does what it should"
   ]
  },
  {
   "cell_type": "code",
   "execution_count": 7,
   "metadata": {},
   "outputs": [
    {
     "name": "stdout",
     "output_type": "stream",
     "text": [
      "{'webserver.local': {'mike'}, 'myworkstation.local': set(), 'mailserver.local': {'don'}}\n"
     ]
    }
   ],
   "source": [
    "users = current_users(events)\n",
    "print(users)"
   ]
  },
  {
   "cell_type": "code",
   "execution_count": 8,
   "metadata": {},
   "outputs": [
    {
     "name": "stdout",
     "output_type": "stream",
     "text": [
      "webserver.local: mike\n",
      "mailserver.local: don\n"
     ]
    }
   ],
   "source": [
    "generate_report(users)"
   ]
  },
  {
   "cell_type": "code",
   "execution_count": null,
   "metadata": {},
   "outputs": [],
   "source": []
  }
 ],
 "metadata": {
  "kernelspec": {
   "display_name": "Python 3",
   "language": "python",
   "name": "python3"
  },
  "language_info": {
   "codemirror_mode": {
    "name": "ipython",
    "version": 3
   },
   "file_extension": ".py",
   "mimetype": "text/x-python",
   "name": "python",
   "nbconvert_exporter": "python",
   "pygments_lexer": "ipython3",
   "version": "3.7.3"
  }
 },
 "nbformat": 4,
 "nbformat_minor": 4
}
